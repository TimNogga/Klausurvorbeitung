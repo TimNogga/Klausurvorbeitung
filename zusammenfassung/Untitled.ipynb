{
 "cells": [
  {
   "cell_type": "code",
   "execution_count": 11,
   "id": "37f0d0bf-f1ac-448e-9684-2c40cb8c4e9a",
   "metadata": {},
   "outputs": [
    {
     "name": "stdout",
     "output_type": "stream",
     "text": [
      "[[2.]]\n"
     ]
    }
   ],
   "source": [
    "from numpy import *\n",
    "from numpy.random import rand\n",
    "from numpy.linalg import norm, inv\n",
    "M = rand(4,4)\n",
    "A = diag([3.0,2.0,-3.0,0.0])\n",
    "u = rand(4,1)\n",
    "u = u/norm(u)\n",
    "m = 1.8\n",
    "B = inv(A - m * eye(4,4))\n",
    "v = u\n",
    "for i in range(100):\n",
    "    w = dot(B,v)\n",
    "    v = w/norm(w)\n",
    "l = dot(v.T, dot(A,v))\n",
    "print(l)\n"
   ]
  },
  {
   "cell_type": "code",
   "execution_count": null,
   "id": "00eb904e-f647-4c79-8c29-190f4ca5cbc9",
   "metadata": {},
   "outputs": [],
   "source": []
  }
 ],
 "metadata": {
  "kernelspec": {
   "display_name": "Python 3 (ipykernel)",
   "language": "python",
   "name": "python3"
  },
  "language_info": {
   "codemirror_mode": {
    "name": "ipython",
    "version": 3
   },
   "file_extension": ".py",
   "mimetype": "text/x-python",
   "name": "python",
   "nbconvert_exporter": "python",
   "pygments_lexer": "ipython3",
   "version": "3.10.9"
  }
 },
 "nbformat": 4,
 "nbformat_minor": 5
}
